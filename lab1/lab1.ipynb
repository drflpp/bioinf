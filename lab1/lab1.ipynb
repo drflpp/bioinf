{
  "nbformat": 4,
  "nbformat_minor": 0,
  "metadata": {
    "colab": {
      "provenance": [],
      "authorship_tag": "ABX9TyPx02w/SQfAAZW7nZpuvk75",
      "include_colab_link": true
    },
    "kernelspec": {
      "name": "python3",
      "display_name": "Python 3"
    },
    "language_info": {
      "name": "python"
    }
  },
  "cells": [
    {
      "cell_type": "markdown",
      "metadata": {
        "id": "view-in-github",
        "colab_type": "text"
      },
      "source": [
        "<a href=\"https://colab.research.google.com/github/drflpp/bioinf/blob/main/lab1/lab1.ipynb\" target=\"_parent\"><img src=\"https://colab.research.google.com/assets/colab-badge.svg\" alt=\"Open In Colab\"/></a>"
      ]
    },
    {
      "cell_type": "markdown",
      "source": [
        "Настройка окружения для QUAST\n"
      ],
      "metadata": {
        "id": "XKUTwE3PWT6n"
      }
    },
    {
      "cell_type": "code",
      "execution_count": null,
      "metadata": {
        "id": "3caBDjE6WLdH"
      },
      "outputs": [],
      "source": [
        "conda create -n quast_env python=3.8\n",
        "conda activate quast_env\n",
        "conda config --add channels defaults\n",
        "conda config --add channels bioconda\n",
        "conda config --add channels conda-forge\n",
        "conda install quast=5.2.0 -y\n",
        "conda install -c bioconda quast=5.2.0 --force-reinstall"
      ]
    },
    {
      "cell_type": "markdown",
      "source": [
        "Вызов команды из правильного окружения"
      ],
      "metadata": {
        "id": "oIicyDllWutk"
      }
    },
    {
      "cell_type": "code",
      "source": [
        "cd /mnt/c/Users/dasha/Downloads\n",
        "quast spades_scaffolds.fasta -o quast_out"
      ],
      "metadata": {
        "id": "NyyJQyPlWPHq"
      },
      "execution_count": null,
      "outputs": []
    },
    {
      "cell_type": "code",
      "source": [
        "Main parameters:\n",
        "  MODE: default,\n",
        "  threads: 2,\n",
        "  min contig length: 500,\n",
        "  min alignment length: 65,\n",
        "  min alignment IDY: 95.0, \\\n",
        "  ambiguity: one,\n",
        "  min local misassembly length: 200,\n",
        "  min extensive misassembly length: 1000\n",
        "\n",
        "  Running Basic statistics processor...\n",
        "  Contig files:\n",
        "    spades_scaffolds\n",
        "  Calculating N50 and L50...\n",
        "    spades_scaffolds, N50 = 779, L50 = 1182, auN = 1351.8,\n",
        "    Total length = 2988329, GC % = 45.92,  N s per 100 kbp =  17.37"
      ],
      "metadata": {
        "id": "v9sDX0CNYqjI"
      },
      "execution_count": null,
      "outputs": []
    }
  ]
}