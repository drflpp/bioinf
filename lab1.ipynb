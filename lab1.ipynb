{
  "nbformat": 4,
  "nbformat_minor": 0,
  "metadata": {
    "colab": {
      "provenance": [],
      "authorship_tag": "ABX9TyNiAwiqBTPnMSTDOt+d4Pdg",
      "include_colab_link": true
    },
    "kernelspec": {
      "name": "python3",
      "display_name": "Python 3"
    },
    "language_info": {
      "name": "python"
    }
  },
  "cells": [
    {
      "cell_type": "markdown",
      "metadata": {
        "id": "view-in-github",
        "colab_type": "text"
      },
      "source": [
        "<a href=\"https://colab.research.google.com/github/drflpp/bioinf/blob/main/lab1.ipynb\" target=\"_parent\"><img src=\"https://colab.research.google.com/assets/colab-badge.svg\" alt=\"Open In Colab\"/></a>"
      ]
    },
    {
      "cell_type": "markdown",
      "source": [
        "Настройка окружения для QUAST\n"
      ],
      "metadata": {
        "id": "XKUTwE3PWT6n"
      }
    },
    {
      "cell_type": "code",
      "execution_count": null,
      "metadata": {
        "id": "3caBDjE6WLdH"
      },
      "outputs": [],
      "source": [
        "conda create -n quast_env python=3.8\n",
        "conda activate quast_env\n",
        "conda config --add channels defaults\n",
        "conda config --add channels bioconda\n",
        "conda config --add channels conda-forge\n",
        "conda install quast=5.2.0 -y\n",
        "conda install -c bioconda quast=5.2.0 --force-reinstall"
      ]
    },
    {
      "cell_type": "code",
      "source": [],
      "metadata": {
        "id": "NyyJQyPlWPHq"
      },
      "execution_count": null,
      "outputs": []
    }
  ]
}